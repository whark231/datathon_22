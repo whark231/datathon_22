{
  "nbformat": 4,
  "nbformat_minor": 0,
  "metadata": {
    "colab": {
      "name": "Datathon '22.ipynb",
      "provenance": [],
      "collapsed_sections": []
    },
    "kernelspec": {
      "name": "python3",
      "display_name": "Python 3"
    },
    "language_info": {
      "name": "python"
    }
  },
  "cells": [
    {
      "cell_type": "markdown",
      "source": [
        "### Installing necessary packages and libraries for data cleaning and wrangling."
      ],
      "metadata": {
        "id": "Oyn1mPcy0jnO"
      }
    },
    {
      "cell_type": "code",
      "execution_count": 270,
      "metadata": {
        "id": "P4k122mzEvBp"
      },
      "outputs": [],
      "source": [
        "!pip install pandas==1.1.5\n",
        "clear_output()"
      ]
    },
    {
      "cell_type": "code",
      "source": [
        "!pip install pandasql\n",
        "clear_output()"
      ],
      "metadata": {
        "id": "dVttVU8pGyAy"
      },
      "execution_count": 271,
      "outputs": []
    },
    {
      "cell_type": "code",
      "source": [
        "# Useful Imports\n",
        "import pandas as pd\n",
        "import pandasql as ps\n",
        "import numpy as np\n",
        "import matplotlib.pyplot as plt\n",
        "import seaborn as sns\n",
        "from IPython.display import clear_output\n"
      ],
      "metadata": {
        "id": "xXxSEw1EGH5f"
      },
      "execution_count": 272,
      "outputs": []
    },
    {
      "cell_type": "markdown",
      "source": [
        "## Looking at Austin, TX data."
      ],
      "metadata": {
        "id": "JNdoRNho1VHs"
      }
    },
    {
      "cell_type": "markdown",
      "source": [
        "\n",
        "\n",
        "Use .info() method to count the number of null objects in the datasets before cleaning. "
      ],
      "metadata": {
        "id": "c0xxeBbro974"
      }
    },
    {
      "cell_type": "code",
      "source": [
        "austin_311_df = pd.read_csv(\"Austin_TX_311.csv\")\n",
        "clear_output()"
      ],
      "metadata": {
        "id": "UEpYLrqR09uN"
      },
      "execution_count": 273,
      "outputs": []
    },
    {
      "cell_type": "code",
      "source": [
        "austin_permits_df = pd.read_csv(\"Austin_TX_Building_Permits.csv\")\n",
        "clear_output()"
      ],
      "metadata": {
        "id": "wdKt--8XyvlA"
      },
      "execution_count": 274,
      "outputs": []
    },
    {
      "cell_type": "code",
      "source": [
        "austin_operating_df = pd.read_csv(\"Austin_TX_Operating_Business_Licenses.csv\")\n",
        "clear_output()"
      ],
      "metadata": {
        "id": "D6aTmJhzyv6k"
      },
      "execution_count": 275,
      "outputs": []
    },
    {
      "cell_type": "markdown",
      "source": [
        "### Austin 311 Call Data"
      ],
      "metadata": {
        "id": "T-jE9A8sAhg1"
      }
    },
    {
      "cell_type": "code",
      "source": [
        "austin_311_df = austin_311_df.dropna(axis=0)\n",
        "clear_output()"
      ],
      "metadata": {
        "id": "u7vqG3Na2EFf"
      },
      "execution_count": 276,
      "outputs": []
    },
    {
      "cell_type": "code",
      "source": [
        "# austin_311_df = austin_311_df.drop(columns = ['Method Received', \"SR Status\", \"SR Location\", \"Street Number\", \"Status Change Date\", \"Last Update Date\", \"Street Name\"])\n",
        "austin_311_df = austin_311_df[[\"Service Request (SR) Number\", \"SR Description\", \"Created Date\", \"Close Date\", \"County\", \"Zip Code\"]]\n",
        "clear_output()"
      ],
      "metadata": {
        "id": "RyjyCV7G_rMU"
      },
      "execution_count": 277,
      "outputs": []
    },
    {
      "cell_type": "code",
      "source": [
        "# Print ill-formated columns\n",
        "for col in austin_311_df.columns:\n",
        "    weird = (austin_311_df[[col]].applymap(type) != austin_311_df[[col]].iloc[0].apply(type)).any(axis=1)\n",
        "    if len(austin_311_df[weird]) > 0:\n",
        "        print(col)\n",
        "clear_output()"
      ],
      "metadata": {
        "id": "Fc0WWTsn0hcL"
      },
      "execution_count": 278,
      "outputs": []
    },
    {
      "cell_type": "code",
      "source": [
        "austin_311_df[\"Zip Code\"] = austin_311_df[\"Zip Code\"].apply(lambda x: int(x))\n",
        "clear_output()"
      ],
      "metadata": {
        "id": "Pw-1_LsW0nP2"
      },
      "execution_count": 279,
      "outputs": []
    },
    {
      "cell_type": "code",
      "source": [
        "austin_311_df = austin_311_df[austin_311_df[\"SR Description\"].str.contains(\"Traffic\")]\n",
        "austin_311_df = austin_311_df[austin_311_df[\"County\"].str.contains(\"TRAVIS|WILLIAMSON\")]\n",
        "clear_output()"
      ],
      "metadata": {
        "id": "u0E57tyH1HKy"
      },
      "execution_count": 280,
      "outputs": []
    },
    {
      "cell_type": "code",
      "source": [
        "austin_311_df\n",
        "clear_output()"
      ],
      "metadata": {
        "id": "U-SbjJhy2DRw"
      },
      "execution_count": 281,
      "outputs": []
    },
    {
      "cell_type": "markdown",
      "source": [
        "### Visualizations"
      ],
      "metadata": {
        "id": "pGJlvzF43V9B"
      }
    },
    {
      "cell_type": "code",
      "source": [
        "# County\n",
        "sns.set(rc = {'figure.figsize':(10,8)})\n",
        "sns.set(font_scale = 1)\n",
        "plot = sns.countplot(x = \"County\", data = austin_311_df, hue = \"County\", palette = [\"red\", \"blue\"], dodge = False)\n",
        "plot.set_xticklabels(plot.get_xticklabels())\n",
        "plot.set(title = 'Number 311 Calls per County in Austin')\n",
        "\n",
        "clear_output()"
      ],
      "metadata": {
        "id": "hkdaBzCY3gM1"
      },
      "execution_count": null,
      "outputs": []
    },
    {
      "cell_type": "code",
      "source": [
        "# SR Description\n",
        "sns.set(rc = {'figure.figsize':(25,8)})\n",
        "plot = sns.countplot(x = \"SR Description\", data = austin_311_df, hue = \"County\", palette = [\"red\", \"blue\"])\n",
        "plot.set_xticklabels(plot.get_xticklabels(), rotation = 15, size = 15)\n",
        "plot.set(title = 'Traffic Related Requests by Description in Austin')\n",
        "clear_output()"
      ],
      "metadata": {
        "id": "yfu1nJ7a3lnJ"
      },
      "execution_count": null,
      "outputs": []
    },
    {
      "cell_type": "markdown",
      "source": [
        "### Austin Permit Data"
      ],
      "metadata": {
        "id": "HvyWf45nAoI5"
      }
    },
    {
      "cell_type": "code",
      "source": [
        "austin_permits_df = austin_permits_df[[\"Permit Num\", \"Fiscal Year Issued\", \"Original Zip\"]]\n",
        "austin_permits_df = austin_permits_df.dropna(axis = 0, subset = [\"Original Zip\"])\n",
        "austin_permits_df[\"Original Zip\"] = austin_permits_df[\"Original Zip\"].apply(lambda x: int(x))\n",
        "clear_output()"
      ],
      "metadata": {
        "id": "OBmaqRT6-UyW"
      },
      "execution_count": 284,
      "outputs": []
    },
    {
      "cell_type": "code",
      "source": [
        "austin_permits_df.head()\n",
        "clear_output()"
      ],
      "metadata": {
        "id": "Gh2UQE_hxFij"
      },
      "execution_count": 285,
      "outputs": []
    },
    {
      "cell_type": "code",
      "source": [
        "# Print ill-formated columns\n",
        "for col in austin_operating_df.columns:\n",
        "    weird = (austin_operating_df[[col]].applymap(type) != austin_operating_df[[col]].iloc[0].apply(type)).any(axis=1)\n",
        "    if len(austin_operating_df[weird]) > 0:\n",
        "        print(col)\n",
        "clear_output()"
      ],
      "metadata": {
        "id": "qsHxcQhrQcf3"
      },
      "execution_count": 286,
      "outputs": []
    },
    {
      "cell_type": "code",
      "source": [
        "austin_operating_df = austin_operating_df.dropna(axis = 0, subset = [\"MAILING ADDRESS COUNTY\", \"MAILING ADDRESS ZIP\", \"BUSINESS CITY, STATE ZIP\", \"BUSINESS COUNTY\"])\n",
        "clear_output()"
      ],
      "metadata": {
        "id": "zhcckgZ2NrJL"
      },
      "execution_count": 287,
      "outputs": []
    },
    {
      "cell_type": "code",
      "source": [
        "# Format bad columns\n",
        "austin_operating_df[['BUSINESS CITY, STATE ZIP', \"BUSINESS NAME\", \"LICENSE SUBTYPE\"]] = austin_operating_df[['BUSINESS CITY, STATE ZIP', \"BUSINESS NAME\", \"LICENSE SUBTYPE\"]].applymap(lambda x: str(x))\n",
        "austin_operating_df[\"MAILING ADDRESS ZIP\"] = austin_operating_df[\"MAILING ADDRESS ZIP\"].apply(lambda x: int(float(x)))\n",
        "clear_output()"
      ],
      "metadata": {
        "id": "9DgrpT6yT2wG"
      },
      "execution_count": 288,
      "outputs": []
    },
    {
      "cell_type": "code",
      "source": [
        "austin_operating_df[\"BUSINESS ZIP\"] = austin_operating_df[\"BUSINESS CITY, STATE ZIP\"].apply(lambda x: x[-5:])\n",
        "clear_output()"
      ],
      "metadata": {
        "id": "YZRa2ZU586ul"
      },
      "execution_count": 289,
      "outputs": []
    },
    {
      "cell_type": "code",
      "source": [
        "austin_operating_df = austin_operating_df.drop(columns = [\"MAILING ADDRESS CITY, STATE ZIP\", \"MAILING ADDRESS LINE1\", \"BUSINESS ADDRESS-LINE1\", \"LICENSE SUBTYPE\", \n",
        "                                                          \"MAILING ADDRESS COUNTY CODE\", \"BUSINESS CITY, STATE ZIP\", \"LICENSE EXPIRATION DATE (MMDDCCYY)\"])\n",
        "clear_output()"
      ],
      "metadata": {
        "id": "bpYfs_msL-QA"
      },
      "execution_count": 290,
      "outputs": []
    },
    {
      "cell_type": "code",
      "source": [
        "# Check ill-formatted columns again\n",
        "for col in austin_operating_df.columns:\n",
        "    weird = (austin_operating_df[[col]].applymap(type) != austin_operating_df[[col]].iloc[0].apply(type)).any(axis=1)\n",
        "    if len(austin_operating_df[weird]) > 0:\n",
        "        print(col)\n",
        "clear_output()"
      ],
      "metadata": {
        "id": "mNOwF9qCQGw9"
      },
      "execution_count": 291,
      "outputs": []
    },
    {
      "cell_type": "code",
      "source": [
        "austin_operating_df\n",
        "clear_output()"
      ],
      "metadata": {
        "id": "6_yK8fYx9qfW"
      },
      "execution_count": 292,
      "outputs": []
    },
    {
      "cell_type": "code",
      "source": [
        "operating_311_df = austin_operating_df[(austin_operating_df[\"BUSINESS COUNTY\"] == \"TRAVIS\") | (austin_operating_df[\"BUSINESS COUNTY\"] == \"WILLIAMSON\")]\n",
        "clear_output()"
      ],
      "metadata": {
        "id": "1vhQ-hYEBrtm"
      },
      "execution_count": 293,
      "outputs": []
    },
    {
      "cell_type": "markdown",
      "source": [
        "### Visualizations"
      ],
      "metadata": {
        "id": "Hm1THhqkAz2j"
      }
    },
    {
      "cell_type": "code",
      "source": [
        "sns.set(rc = {'figure.figsize':(15,8)})\n",
        "sns.set(font_scale = 1)\n",
        "plot = sns.countplot(x = \"BUSINESS COUNTY\", data = operating_311_df, hue = \"BUSINESS COUNTY\", palette = [\"red\", \"blue\"], dodge = False)\n",
        "plot.set_xticklabels(plot.get_xticklabels())\n",
        "plot.set(title = 'Businesses per County in Austin')\n",
        "clear_output()"
      ],
      "metadata": {
        "id": "JVP0YQIUA5Vg"
      },
      "execution_count": null,
      "outputs": []
    },
    {
      "cell_type": "markdown",
      "source": [
        "## New York Data"
      ],
      "metadata": {
        "id": "qxWKAltfEUIT"
      }
    },
    {
      "cell_type": "code",
      "source": [
        "ny_permits_df = pd.read_csv(\"New_York_NY_Building_Permits.csv\")\n",
        "clear_output()"
      ],
      "metadata": {
        "id": "6DfWmlraHcjp"
      },
      "execution_count": 295,
      "outputs": []
    },
    {
      "cell_type": "code",
      "source": [
        "ny_operating_df = pd.read_csv(\"New_York_NY_Operating_Business_Licenses.csv\")\n",
        "clear_output()"
      ],
      "metadata": {
        "id": "64AU4xfHHa2P"
      },
      "execution_count": 296,
      "outputs": []
    },
    {
      "cell_type": "markdown",
      "source": [
        "### NY Permits Data"
      ],
      "metadata": {
        "id": "OANZWt12d5kB"
      }
    },
    {
      "cell_type": "code",
      "source": [
        "ny_permits_df = ny_permits_df[[\"BOROUGH\", \"Zip Code\"]]\n",
        "ny_permits_df = ny_permits_df.dropna(axis = 0)\n",
        "ny_permits_df[\"Zip Code\"] = ny_permits_df[\"Zip Code\"].apply(lambda x: int(x))\n",
        "ny_permits_df = ny_permits_df.sort_values(by = \"BOROUGH\", axis = 0)\n",
        "clear_output()"
      ],
      "metadata": {
        "id": "bcGtNgpmeOeY"
      },
      "execution_count": 297,
      "outputs": []
    },
    {
      "cell_type": "code",
      "source": [
        "ny_permits_df\n",
        "clear_output()"
      ],
      "metadata": {
        "id": "Q0z96UoCgFiQ"
      },
      "execution_count": 298,
      "outputs": []
    },
    {
      "cell_type": "markdown",
      "source": [
        "### Visualization"
      ],
      "metadata": {
        "id": "NGAOa657glMv"
      }
    },
    {
      "cell_type": "code",
      "source": [
        "sns.set(rc = {'figure.figsize':(15,8)})\n",
        "sns.set(font_scale = 1)\n",
        "plot = sns.countplot(x = \"BOROUGH\", data = ny_permits_df, hue = \"BOROUGH\", palette = [\"red\", \"blue\", \"green\", \"orange\", \"brown\"])\n",
        "plot.set_xticklabels(plot.get_xticklabels())\n",
        "plot.set(title = 'Buildings per Burough in NY')\n",
        "clear_output()"
      ],
      "metadata": {
        "id": "VxV-Bdvff_Gt"
      },
      "execution_count": null,
      "outputs": []
    },
    {
      "cell_type": "markdown",
      "source": [
        "### NY Business Data"
      ],
      "metadata": {
        "id": "kEOSWhhThnbD"
      }
    },
    {
      "cell_type": "code",
      "source": [
        "ny_operating_df = ny_operating_df[[\"DCA License Number\", \"Address Borough\", \"Address ZIP\"]]\n",
        "clear_output()"
      ],
      "metadata": {
        "id": "0D9_DaaEjCXM"
      },
      "execution_count": 300,
      "outputs": []
    },
    {
      "cell_type": "code",
      "source": [
        "ny_operating_df = ny_operating_df.dropna(axis = 0, subset = [\"Address Borough\"])\n",
        "clear_output()"
      ],
      "metadata": {
        "id": "NHrLXPgfj_S1"
      },
      "execution_count": 301,
      "outputs": []
    },
    {
      "cell_type": "code",
      "source": [
        "ny_operating_df[\"Address Borough\"] = ny_operating_df[\"Address Borough\"].apply(lambda x: x.upper())\n",
        "ny_operating_df = ny_operating_df.sort_values(by = \"Address Borough\", axis = 0)\n",
        "clear_output()"
      ],
      "metadata": {
        "id": "XuvrJkdslAIK"
      },
      "execution_count": 302,
      "outputs": []
    },
    {
      "cell_type": "code",
      "source": [
        "ny_operating_df\n",
        "clear_output()"
      ],
      "metadata": {
        "id": "FGvL2aaFkHqJ"
      },
      "execution_count": 303,
      "outputs": []
    },
    {
      "cell_type": "markdown",
      "source": [
        "### Visualization"
      ],
      "metadata": {
        "id": "fwaf27yOk_fa"
      }
    },
    {
      "cell_type": "code",
      "source": [
        "sns.set(rc = {'figure.figsize':(15,8)})\n",
        "sns.set(font_scale = 1)\n",
        "plot = sns.countplot(x = \"Address Borough\", data = ny_operating_df, hue = \"Address Borough\", palette = [\"red\", \"blue\", \"black\", \"green\", \"orange\", \"brown\"])\n",
        "plot.set_xticklabels(plot.get_xticklabels(), size = 10)\n",
        "plot.set(title = 'Businesses per Burough in NY')\n",
        "clear_output()"
      ],
      "metadata": {
        "id": "P-fcrJXCkJEP"
      },
      "execution_count": null,
      "outputs": []
    },
    {
      "cell_type": "markdown",
      "source": [
        "# DC Data"
      ],
      "metadata": {
        "id": "42Bdlr5ZqHQW"
      }
    },
    {
      "cell_type": "code",
      "source": [
        "dc_311_df = pd.read_csv(\"Washington_DC_311_2021_2022.csv\")\n",
        "dc_311_df.head(1)\n",
        "clear_output()"
      ],
      "metadata": {
        "id": "ynTv_xruH8RZ"
      },
      "execution_count": 305,
      "outputs": []
    },
    {
      "cell_type": "code",
      "source": [
        "dc_311_df = dc_311_df[[\"SERVICECODE\", \"SERVICECODEDESC\", \"SERVICETYPECODEDESC\", \"ADDDATE\", \"SERVICEDUEDATE\", \"ZIPCODE\", \"WARD\"]]\n",
        "clear_output()"
      ],
      "metadata": {
        "id": "l2a_FPgiwlCL"
      },
      "execution_count": 306,
      "outputs": []
    },
    {
      "cell_type": "code",
      "source": [
        "print(dc_311_df[\"SERVICETYPECODEDESC\"].unique())\n",
        "clear_output()"
      ],
      "metadata": {
        "id": "O1IQW5hvqYKO"
      },
      "execution_count": 307,
      "outputs": []
    },
    {
      "cell_type": "code",
      "source": [
        "dc_311_df = dc_311_df.dropna(axis = 0, subset = [\"SERVICETYPECODEDESC\", \"SERVICECODEDESC\", \"WARD\", \"ZIPCODE\"])\n",
        "dc_311_df = dc_311_df[dc_311_df[\"SERVICETYPECODEDESC\"].str.contains(\"Transportation|Parking|Vehicle\")]\n",
        "dc_311_df = dc_311_df[~dc_311_df[\"SERVICECODEDESC\"].str.contains(\"DMV|Abandoned|Striping|Out\")]\n",
        "dc_311_df[[\"ZIPCODE\", \"WARD\"]] = dc_311_df[[\"ZIPCODE\", \"WARD\"]].applymap(lambda x: int(x))\n",
        "dc_311_df = dc_311_df[~dc_311_df[\"SERVICECODEDESC\"].str.contains(\"DMV\")]\n",
        "clear_output()"
      ],
      "metadata": {
        "id": "7k-xiX2Fs2Rp"
      },
      "execution_count": 308,
      "outputs": []
    },
    {
      "cell_type": "code",
      "source": [
        "print(dc_311_df[\"SERVICECODEDESC\"].unique())\n",
        "clear_output()"
      ],
      "metadata": {
        "id": "ZFAHW-_0y9Ui"
      },
      "execution_count": 309,
      "outputs": []
    },
    {
      "cell_type": "code",
      "source": [
        "dc_311_df\n",
        "clear_output()"
      ],
      "metadata": {
        "id": "ROLmweAawTNf"
      },
      "execution_count": 310,
      "outputs": []
    },
    {
      "cell_type": "code",
      "source": [
        "sns.set(rc = {'figure.figsize':(15,8)})\n",
        "sns.set(font_scale = 1)\n",
        "plot = sns.countplot(x = \"WARD\", data = dc_311_df, hue = \"SERVICECODEDESC\")\n",
        "plot.set_xticklabels(plot.get_xticklabels())\n",
        "plot.set(title = 'Services Requested per Ward in DC')\n",
        "clear_output()"
      ],
      "metadata": {
        "id": "WnZGjJrXy3T3"
      },
      "execution_count": null,
      "outputs": []
    },
    {
      "cell_type": "code",
      "source": [
        "sns.set(rc = {'figure.figsize':(15,8)})\n",
        "sns.set(font_scale = 1)\n",
        "plot = sns.countplot(x = \"WARD\", data = dc_311_df)\n",
        "plot.set_xticklabels(plot.get_xticklabels())\n",
        "plot.set(title = '311 Traffic Related Calls per Ward in DC')\n",
        "clear_output()"
      ],
      "metadata": {
        "id": "syR0ydGv4q6i"
      },
      "execution_count": null,
      "outputs": []
    },
    {
      "cell_type": "code",
      "source": [
        "dc_permits_df = pd.read_csv(\"Washington_DC_Building_Permits_2021_2022.csv\")\n",
        "dc_permits_df.head(2)\n",
        "clear_output()"
      ],
      "metadata": {
        "id": "BefJoamSIGBm"
      },
      "execution_count": 313,
      "outputs": []
    },
    {
      "cell_type": "code",
      "source": [
        "dc_permits_df = dc_permits_df[[\"DCRAINTERNALNUMBER\", \"ZONING\", \"WARD\", \"DISTRICT\"]]\n",
        "dc_permits_df = dc_permits_df.dropna(axis = 0, subset = [\"DISTRICT\", \"WARD\"])\n",
        "dc_permits_df = dc_permits_df.sort_values(axis = 0, by = \"WARD\")\n",
        "clear_output()"
      ],
      "metadata": {
        "id": "aB6MSNRD1xdp"
      },
      "execution_count": 314,
      "outputs": []
    },
    {
      "cell_type": "code",
      "source": [
        "dc_permits_df.head(20)\n",
        "clear_output()"
      ],
      "metadata": {
        "id": "lGSWErqT3TFW"
      },
      "execution_count": 315,
      "outputs": []
    },
    {
      "cell_type": "code",
      "source": [
        "sns.set(rc = {'figure.figsize':(15,8)})\n",
        "sns.set(font_scale = 1)\n",
        "plot = sns.countplot(x = \"WARD\", data = dc_permits_df, hue = \"WARD\", dodge = False)\n",
        "plot.set_xticklabels(plot.get_xticklabels())\n",
        "plot.set(title = 'Number of Buildings per Ward in DC')\n",
        "clear_output()"
      ],
      "metadata": {
        "id": "-EaViDjz4Bo8"
      },
      "execution_count": null,
      "outputs": []
    },
    {
      "cell_type": "code",
      "source": [
        "sns.set(rc = {'figure.figsize':(15,8)})\n",
        "plot = sns.countplot(x = \"DISTRICT\", data = dc_permits_df, hue = \"DISTRICT\")\n",
        "plot.set_xticklabels(plot.get_xticklabels(), size = 10)\n",
        "plot.set(title = 'Number of Buildings in DC per District')\n",
        "clear_output()"
      ],
      "metadata": {
        "id": "Xxaruq_Q4ejU"
      },
      "execution_count": null,
      "outputs": []
    },
    {
      "cell_type": "code",
      "source": [
        "dc_operating_df = pd.read_csv(\"Washington_DC_Operating_Business_Licenses.csv\")\n",
        "dc_operating_df.head(2)\n",
        "clear_output()"
      ],
      "metadata": {
        "id": "nzla7bm0Ld3W"
      },
      "execution_count": 318,
      "outputs": []
    },
    {
      "cell_type": "code",
      "source": [
        "dc_operating_df = dc_operating_df[[\"CUSTOMER_NUMBER\", \"DC_ADDR_FLAG\", \"ZIP\", \"WARD\", \"DISTRICT\"]]\n",
        "dc_operating_df = dc_operating_df.dropna(axis = 0, subset = [\"CUSTOMER_NUMBER\", \"DC_ADDR_FLAG\", \"WARD\", \"DISTRICT\"])\n",
        "dc_operating_df[\"WARD\"] = dc_operating_df[\"WARD\"].apply(lambda x: int(x))\n",
        "dc_operating_df = dc_operating_df.sort_values(axis = 0, by = \"WARD\")\n",
        "dc_operating_df = dc_operating_df[dc_operating_df[\"DC_ADDR_FLAG\"] == \"Y\"]\n",
        "clear_output()"
      ],
      "metadata": {
        "id": "VQs6IjNlL0nl"
      },
      "execution_count": 319,
      "outputs": []
    },
    {
      "cell_type": "code",
      "source": [
        "dc_operating_df\n",
        "clear_output()"
      ],
      "metadata": {
        "id": "bl8JerwRjLOK"
      },
      "execution_count": 320,
      "outputs": []
    },
    {
      "cell_type": "code",
      "source": [
        "sns.set(rc = {'figure.figsize':(15,8)})\n",
        "plot = sns.countplot(x = \"DISTRICT\", data = dc_operating_df, hue = \"DISTRICT\")\n",
        "plot.set_xticklabels(plot.get_xticklabels(), size = 10)\n",
        "plot.set(title = 'Number of Businesses per District in DC')\n",
        "clear_output()"
      ],
      "metadata": {
        "id": "TASy1WbO60g7"
      },
      "execution_count": null,
      "outputs": []
    },
    {
      "cell_type": "code",
      "source": [
        "sns.set(rc = {'figure.figsize':(15,8)})\n",
        "plot = sns.countplot(x = \"WARD\", data = dc_operating_df, hue = \"WARD\")\n",
        "plot.set_xticklabels(plot.get_xticklabels(), size = 10)\n",
        "plot.set(title = 'Number of Businesses per Ward in DC')\n",
        "clear_output()"
      ],
      "metadata": {
        "id": "TnGCxetw8OXj"
      },
      "execution_count": null,
      "outputs": []
    }
  ]
}